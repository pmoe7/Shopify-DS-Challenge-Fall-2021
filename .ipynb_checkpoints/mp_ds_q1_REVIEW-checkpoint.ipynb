{
 "cells": [
  {
   "cell_type": "code",
   "execution_count": 1,
   "metadata": {},
   "outputs": [],
   "source": [
    "# import requirements\n",
    "import pandas as pd\n",
    "import seaborn as sns\n",
    "import matplotlib.pyplot as plt\n"
   ]
  },
  {
   "cell_type": "code",
   "execution_count": 2,
   "metadata": {
    "scrolled": true
   },
   "outputs": [
    {
     "data": {
      "text/html": [
       "<div>\n",
       "<style scoped>\n",
       "    .dataframe tbody tr th:only-of-type {\n",
       "        vertical-align: middle;\n",
       "    }\n",
       "\n",
       "    .dataframe tbody tr th {\n",
       "        vertical-align: top;\n",
       "    }\n",
       "\n",
       "    .dataframe thead th {\n",
       "        text-align: right;\n",
       "    }\n",
       "</style>\n",
       "<table border=\"1\" class=\"dataframe\">\n",
       "  <thead>\n",
       "    <tr style=\"text-align: right;\">\n",
       "      <th></th>\n",
       "      <th>order_id</th>\n",
       "      <th>shop_id</th>\n",
       "      <th>order_amount</th>\n",
       "      <th>total_items</th>\n",
       "    </tr>\n",
       "  </thead>\n",
       "  <tbody>\n",
       "    <tr>\n",
       "      <th>0</th>\n",
       "      <td>1</td>\n",
       "      <td>53</td>\n",
       "      <td>224</td>\n",
       "      <td>2</td>\n",
       "    </tr>\n",
       "    <tr>\n",
       "      <th>1</th>\n",
       "      <td>2</td>\n",
       "      <td>92</td>\n",
       "      <td>90</td>\n",
       "      <td>1</td>\n",
       "    </tr>\n",
       "    <tr>\n",
       "      <th>2</th>\n",
       "      <td>3</td>\n",
       "      <td>44</td>\n",
       "      <td>144</td>\n",
       "      <td>1</td>\n",
       "    </tr>\n",
       "    <tr>\n",
       "      <th>3</th>\n",
       "      <td>4</td>\n",
       "      <td>18</td>\n",
       "      <td>156</td>\n",
       "      <td>1</td>\n",
       "    </tr>\n",
       "    <tr>\n",
       "      <th>4</th>\n",
       "      <td>5</td>\n",
       "      <td>18</td>\n",
       "      <td>156</td>\n",
       "      <td>1</td>\n",
       "    </tr>\n",
       "  </tbody>\n",
       "</table>\n",
       "</div>"
      ],
      "text/plain": [
       "   order_id  shop_id  order_amount  total_items\n",
       "0         1       53           224            2\n",
       "1         2       92            90            1\n",
       "2         3       44           144            1\n",
       "3         4       18           156            1\n",
       "4         5       18           156            1"
      ]
     },
     "execution_count": 2,
     "metadata": {},
     "output_type": "execute_result"
    }
   ],
   "source": [
    "df = pd.read_csv(\"data.csv\")\n",
    "df = df[['order_id', 'shop_id', 'order_amount', 'total_items']]\n",
    "#df.columns\n",
    "df.head()"
   ]
  },
  {
   "cell_type": "code",
   "execution_count": 3,
   "metadata": {},
   "outputs": [
    {
     "data": {
      "text/html": [
       "<div>\n",
       "<style scoped>\n",
       "    .dataframe tbody tr th:only-of-type {\n",
       "        vertical-align: middle;\n",
       "    }\n",
       "\n",
       "    .dataframe tbody tr th {\n",
       "        vertical-align: top;\n",
       "    }\n",
       "\n",
       "    .dataframe thead th {\n",
       "        text-align: right;\n",
       "    }\n",
       "</style>\n",
       "<table border=\"1\" class=\"dataframe\">\n",
       "  <thead>\n",
       "    <tr style=\"text-align: right;\">\n",
       "      <th></th>\n",
       "      <th>order_id</th>\n",
       "      <th>shop_id</th>\n",
       "      <th>order_amount</th>\n",
       "      <th>total_items</th>\n",
       "    </tr>\n",
       "  </thead>\n",
       "  <tbody>\n",
       "    <tr>\n",
       "      <th>count</th>\n",
       "      <td>5000.000000</td>\n",
       "      <td>5000.000000</td>\n",
       "      <td>5000.000000</td>\n",
       "      <td>5000.00000</td>\n",
       "    </tr>\n",
       "    <tr>\n",
       "      <th>mean</th>\n",
       "      <td>2500.500000</td>\n",
       "      <td>50.078800</td>\n",
       "      <td>3145.128000</td>\n",
       "      <td>8.78720</td>\n",
       "    </tr>\n",
       "    <tr>\n",
       "      <th>std</th>\n",
       "      <td>1443.520003</td>\n",
       "      <td>29.006118</td>\n",
       "      <td>41282.539349</td>\n",
       "      <td>116.32032</td>\n",
       "    </tr>\n",
       "    <tr>\n",
       "      <th>min</th>\n",
       "      <td>1.000000</td>\n",
       "      <td>1.000000</td>\n",
       "      <td>90.000000</td>\n",
       "      <td>1.00000</td>\n",
       "    </tr>\n",
       "    <tr>\n",
       "      <th>25%</th>\n",
       "      <td>1250.750000</td>\n",
       "      <td>24.000000</td>\n",
       "      <td>163.000000</td>\n",
       "      <td>1.00000</td>\n",
       "    </tr>\n",
       "    <tr>\n",
       "      <th>50%</th>\n",
       "      <td>2500.500000</td>\n",
       "      <td>50.000000</td>\n",
       "      <td>284.000000</td>\n",
       "      <td>2.00000</td>\n",
       "    </tr>\n",
       "    <tr>\n",
       "      <th>75%</th>\n",
       "      <td>3750.250000</td>\n",
       "      <td>75.000000</td>\n",
       "      <td>390.000000</td>\n",
       "      <td>3.00000</td>\n",
       "    </tr>\n",
       "    <tr>\n",
       "      <th>max</th>\n",
       "      <td>5000.000000</td>\n",
       "      <td>100.000000</td>\n",
       "      <td>704000.000000</td>\n",
       "      <td>2000.00000</td>\n",
       "    </tr>\n",
       "  </tbody>\n",
       "</table>\n",
       "</div>"
      ],
      "text/plain": [
       "          order_id      shop_id   order_amount  total_items\n",
       "count  5000.000000  5000.000000    5000.000000   5000.00000\n",
       "mean   2500.500000    50.078800    3145.128000      8.78720\n",
       "std    1443.520003    29.006118   41282.539349    116.32032\n",
       "min       1.000000     1.000000      90.000000      1.00000\n",
       "25%    1250.750000    24.000000     163.000000      1.00000\n",
       "50%    2500.500000    50.000000     284.000000      2.00000\n",
       "75%    3750.250000    75.000000     390.000000      3.00000\n",
       "max    5000.000000   100.000000  704000.000000   2000.00000"
      ]
     },
     "execution_count": 3,
     "metadata": {},
     "output_type": "execute_result"
    }
   ],
   "source": [
    "df.describe()"
   ]
  },
  {
   "cell_type": "markdown",
   "metadata": {},
   "source": [
    "### Naive AOV\n"
   ]
  },
  {
   "cell_type": "code",
   "execution_count": 4,
   "metadata": {},
   "outputs": [
    {
     "data": {
      "text/plain": [
       "3145.13"
      ]
     },
     "execution_count": 4,
     "metadata": {},
     "output_type": "execute_result"
    }
   ],
   "source": [
    "#bad_aov = df['order_amount'].sum() / df['total_items'].count()\n",
    "bad_aov = df['order_amount'].mean()\n",
    "round(bad_aov, 2)\n"
   ]
  },
  {
   "cell_type": "code",
   "execution_count": 5,
   "metadata": {},
   "outputs": [
    {
     "data": {
      "text/plain": [
       "<AxesSubplot:>"
      ]
     },
     "execution_count": 5,
     "metadata": {},
     "output_type": "execute_result"
    },
    {
     "data": {
      "image/png": "[encoded data removed]",
      "text/plain": [
       "<Figure size 432x288 with 1 Axes>"
      ]
     },
     "metadata": {
      "needs_background": "light"
     },
     "output_type": "display_data"
    }
   ],
   "source": [
    "df['total_items'].hist(bins=10)\n",
    "#sns.distplot(df['total_items'])\n"
   ]
  },
  {
   "cell_type": "markdown",
   "metadata": {},
   "source": [
    "### Issues\n",
    "* We are not accounting for bulk order sizes (anamolies) that skew the averages\n",
    "* We are not accounting for luxury or rare sneakers (outliers) that skew the averages\n"
   ]
  },
  {
   "cell_type": "markdown",
   "metadata": {},
   "source": [
    "### Alterntaive Method A\n",
    "1. Compute the average price of an item\n",
    "2. Compute the median or mode of the order sizes (median or mode of total_items)\n",
    "3. Multiply the median or mode of the order sizes (same in this case) by the average price per item to get AOV\n",
    "\n",
    "### Alternative Method B\n",
    "1. Detect the outliers in the order sizes (bulk orders) and avg sneaker price (luxury or rare sneakers)\n",
    "2. Remove the outliers\n",
    "3. Compute AOV as it was computed originally"
   ]
  },
  {
   "cell_type": "code",
   "execution_count": 6,
   "metadata": {},
   "outputs": [
    {
     "name": "stdout",
     "output_type": "stream",
     "text": [
      "Average Item Price:  387.74\n",
      "Order Size Mode:  0    2\n",
      "dtype: int64\n",
      "Order Size Median:  2.0\n",
      "Average Order Value (AOV):  0    775.48\n",
      "dtype: float64\n"
     ]
    }
   ],
   "source": [
    "# Alternative Method A\n",
    "\n",
    "df['avg_item_price'] = df.apply (lambda row: row.order_amount / row.total_items, axis=1)\n",
    "df['avg_item_price'].head()\n",
    "\n",
    "# Compute the average price of an item\n",
    "avg_item_price = df['avg_item_price'].mean()\n",
    "avg_item_price = round(avg_item_price, 2)\n",
    "\n",
    "# Compute the median or mode of the order sizes (median or mode of total_items)\n",
    "order_size_mode = df['total_items'].mode()\n",
    "order_size_median = df['total_items'].median()\n",
    "\n",
    "print(\"Average Item Price: \", avg_item_price)\n",
    "print(\"Order Size Mode: \", order_size_mode)\n",
    "print(\"Order Size Median: \", order_size_median)\n",
    "\n",
    "# Multiply the median or mode of the order sizes (same in this case) by the average price per item\n",
    "avg_order_value = avg_item_price * order_size_mode\n",
    "avg_order_value = round(avg_order_value, 2)\n",
    "\n",
    "\n",
    "print(\"Average Order Value (AOV): \", avg_order_value)\n",
    "\n"
   ]
  },
  {
   "cell_type": "code",
   "execution_count": 7,
   "metadata": {},
   "outputs": [
    {
     "data": {
      "text/html": [
       "<div>\n",
       "<style scoped>\n",
       "    .dataframe tbody tr th:only-of-type {\n",
       "        vertical-align: middle;\n",
       "    }\n",
       "\n",
       "    .dataframe tbody tr th {\n",
       "        vertical-align: top;\n",
       "    }\n",
       "\n",
       "    .dataframe thead th {\n",
       "        text-align: right;\n",
       "    }\n",
       "</style>\n",
       "<table border=\"1\" class=\"dataframe\">\n",
       "  <thead>\n",
       "    <tr style=\"text-align: right;\">\n",
       "      <th></th>\n",
       "      <th>order_id</th>\n",
       "      <th>shop_id</th>\n",
       "      <th>order_amount</th>\n",
       "      <th>total_items</th>\n",
       "      <th>avg_item_price</th>\n",
       "      <th>anomaly</th>\n",
       "    </tr>\n",
       "  </thead>\n",
       "  <tbody>\n",
       "    <tr>\n",
       "      <th>0</th>\n",
       "      <td>1</td>\n",
       "      <td>53</td>\n",
       "      <td>224</td>\n",
       "      <td>2</td>\n",
       "      <td>112.0</td>\n",
       "      <td>1</td>\n",
       "    </tr>\n",
       "    <tr>\n",
       "      <th>1</th>\n",
       "      <td>2</td>\n",
       "      <td>92</td>\n",
       "      <td>90</td>\n",
       "      <td>1</td>\n",
       "      <td>90.0</td>\n",
       "      <td>1</td>\n",
       "    </tr>\n",
       "    <tr>\n",
       "      <th>2</th>\n",
       "      <td>3</td>\n",
       "      <td>44</td>\n",
       "      <td>144</td>\n",
       "      <td>1</td>\n",
       "      <td>144.0</td>\n",
       "      <td>1</td>\n",
       "    </tr>\n",
       "    <tr>\n",
       "      <th>3</th>\n",
       "      <td>4</td>\n",
       "      <td>18</td>\n",
       "      <td>156</td>\n",
       "      <td>1</td>\n",
       "      <td>156.0</td>\n",
       "      <td>1</td>\n",
       "    </tr>\n",
       "    <tr>\n",
       "      <th>4</th>\n",
       "      <td>5</td>\n",
       "      <td>18</td>\n",
       "      <td>156</td>\n",
       "      <td>1</td>\n",
       "      <td>156.0</td>\n",
       "      <td>1</td>\n",
       "    </tr>\n",
       "  </tbody>\n",
       "</table>\n",
       "</div>"
      ],
      "text/plain": [
       "   order_id  shop_id  order_amount  total_items  avg_item_price  anomaly\n",
       "0         1       53           224            2           112.0        1\n",
       "1         2       92            90            1            90.0        1\n",
       "2         3       44           144            1           144.0        1\n",
       "3         4       18           156            1           156.0        1\n",
       "4         5       18           156            1           156.0        1"
      ]
     },
     "execution_count": 7,
     "metadata": {},
     "output_type": "execute_result"
    }
   ],
   "source": [
    "# Alternative Method B\n",
    "from sklearn.ensemble import IsolationForest\n",
    "from sklearn.svm import OneClassSVM\n",
    "from sklearn.neighbors import NearestNeighbors\n",
    "from sklearn.neighbors import LocalOutlierFactor\n",
    "\n",
    "import numpy as np\n",
    "\n",
    "isof = IsolationForest(n_estimators=10)\n",
    "knn = NearestNeighbors(n_neighbors = 1, algorithm = \"ball_tree\", p=1)\n",
    "svm = OneClassSVM(gamma = 'scale')\n",
    "model = LocalOutlierFactor(n_neighbors=800, contamination=0.01)\n",
    "\n",
    "#X = np.array(df['order_amount']).reshape(-1, 1)\n",
    "X = df[['order_amount', 'total_items', 'avg_item_price']]\n",
    "\n",
    "isof.fit(X)\n",
    "knn.fit(X)\n",
    "svm.fit(X)\n",
    "\n",
    "df['anomaly'] = model.fit_predict(X)\n",
    "\n",
    "\n",
    "df.head()"
   ]
  },
  {
   "cell_type": "code",
   "execution_count": 8,
   "metadata": {},
   "outputs": [
    {
     "name": "stdout",
     "output_type": "stream",
     "text": [
      "      order_id  shop_id  order_amount  total_items  avg_item_price  anomaly\n",
      "15          16       42        704000         2000           352.0       -1\n",
      "60          61       42        704000         2000           352.0       -1\n",
      "490        491       78         51450            2         25725.0       -1\n",
      "493        494       78         51450            2         25725.0       -1\n",
      "511        512       78         51450            2         25725.0       -1\n",
      "520        521       42        704000         2000           352.0       -1\n",
      "617        618       78         51450            2         25725.0       -1\n",
      "691        692       78        154350            6         25725.0       -1\n",
      "1104      1105       42        704000         2000           352.0       -1\n",
      "1259      1260       78         77175            3         25725.0       -1\n",
      "1362      1363       42        704000         2000           352.0       -1\n",
      "1436      1437       42        704000         2000           352.0       -1\n",
      "1529      1530       78         51450            2         25725.0       -1\n",
      "1562      1563       42        704000         2000           352.0       -1\n",
      "1602      1603       42        704000         2000           352.0       -1\n",
      "2153      2154       42        704000         2000           352.0       -1\n",
      "2297      2298       42        704000         2000           352.0       -1\n",
      "2452      2453       78         51450            2         25725.0       -1\n",
      "2492      2493       78        102900            4         25725.0       -1\n",
      "2495      2496       78         51450            2         25725.0       -1\n",
      "2512      2513       78         51450            2         25725.0       -1\n",
      "2564      2565       78         77175            3         25725.0       -1\n",
      "2690      2691       78         77175            3         25725.0       -1\n",
      "2818      2819       78         51450            2         25725.0       -1\n",
      "2821      2822       78         51450            2         25725.0       -1\n",
      "2835      2836       42        704000         2000           352.0       -1\n",
      "2906      2907       78         77175            3         25725.0       -1\n",
      "2969      2970       42        704000         2000           352.0       -1\n",
      "3101      3102       78         51450            2         25725.0       -1\n",
      "3167      3168       78         51450            2         25725.0       -1\n",
      "3332      3333       42        704000         2000           352.0       -1\n",
      "3403      3404       78         77175            3         25725.0       -1\n",
      "3705      3706       78         51450            2         25725.0       -1\n",
      "3724      3725       78         77175            3         25725.0       -1\n",
      "4056      4057       42        704000         2000           352.0       -1\n",
      "4079      4080       78         51450            2         25725.0       -1\n",
      "4192      4193       78         77175            3         25725.0       -1\n",
      "4311      4312       78         51450            2         25725.0       -1\n",
      "4412      4413       78         51450            2         25725.0       -1\n",
      "4420      4421       78         77175            3         25725.0       -1\n",
      "4646      4647       42        704000         2000           352.0       -1\n",
      "4715      4716       78         77175            3         25725.0       -1\n",
      "4868      4869       42        704000         2000           352.0       -1\n",
      "4882      4883       42        704000         2000           352.0       -1\n",
      "Num of outliers:  44\n"
     ]
    }
   ],
   "source": [
    "anomaly = df.loc[df['anomaly']==-1]\n",
    "anomaly_index=list(anomaly.index)\n",
    "\n",
    "anomaly.to_csv(\"anamolies.csv\")\n",
    "print(anomaly)\n",
    "print(\"Num of outliers: \", len(anomaly))"
   ]
  },
  {
   "cell_type": "code",
   "execution_count": 9,
   "metadata": {},
   "outputs": [
    {
     "data": {
      "text/plain": [
       "46"
      ]
     },
     "execution_count": 9,
     "metadata": {},
     "output_type": "execute_result"
    }
   ],
   "source": [
    "outliers_counter = len(df[df['avg_item_price'] > 2.5 * avg_item_price]) \n",
    "# sneaker prices tend to not have that much variance so 2.5 is appropriate treshold to dictate outlier\n",
    "outliers_counter"
   ]
  },
  {
   "cell_type": "code",
   "execution_count": 10,
   "metadata": {},
   "outputs": [
    {
     "name": "stdout",
     "output_type": "stream",
     "text": [
      "Accuracy percentage: 95.65217391304348\n"
     ]
    }
   ],
   "source": [
    "# Anamoly Detection Model Accuracy\n",
    "\n",
    "num_anam = list(df['anomaly']).count(-1)\n",
    "#num_anam = 46\n",
    "\n",
    "accuracy = num_anam / outliers_counter * 100\n",
    "\n",
    "print(\"Accuracy percentage:\", accuracy)"
   ]
  },
  {
   "cell_type": "code",
   "execution_count": 11,
   "metadata": {},
   "outputs": [
    {
     "data": {
      "text/plain": [
       "4956"
      ]
     },
     "execution_count": 11,
     "metadata": {},
     "output_type": "execute_result"
    }
   ],
   "source": [
    "# drop anamolies\n",
    "df = df[df.anomaly == 1]\n",
    "df.to_csv(\"df_no_anoms.csv\")\n",
    "df.order_id.count()\n"
   ]
  },
  {
   "cell_type": "code",
   "execution_count": 12,
   "metadata": {},
   "outputs": [],
   "source": [
    "# compute average order value as it was computed originally with all the outliers removed from the order size and avg item price\n",
    "good_aov = df['order_amount'].mean()\n",
    "good_aov = round(good_aov, 2)"
   ]
  },
  {
   "cell_type": "markdown",
   "metadata": {},
   "source": [
    "### Better methods Final Answers"
   ]
  },
  {
   "cell_type": "code",
   "execution_count": 13,
   "metadata": {},
   "outputs": [
    {
     "name": "stdout",
     "output_type": "stream",
     "text": [
      "Method 1 - Average Order Value (AOV) :  0    775.48\n",
      "dtype: float64\n",
      "Method 2 - Average Order Value (AOV) :  400.04\n",
      "Avg of both AOVs :  0    587.76\n",
      "dtype: float64\n",
      "we can also just use raw MEDIAN order value and MODE order value instead of the AOV\n",
      "Median Order Value:  284.0\n",
      "Mode Order Value:  0    153\n",
      "dtype: int64\n"
     ]
    }
   ],
   "source": [
    "print(\"Method 1 - Average Order Value (AOV) : \", avg_order_value)\n",
    "print(\"Method 2 - Average Order Value (AOV) : \", good_aov)\n",
    "print(\"Avg of both AOVs : \", (avg_order_value + good_aov) / 2)\n",
    "\n",
    "print(\"we can also just use raw MEDIAN order value and MODE order value instead of the AOV\")\n",
    "print(\"Median Order Value: \", df['order_amount'].median())\n",
    "print(\"Mode Order Value: \", df['order_amount'].mode())"
   ]
  },
  {
   "cell_type": "markdown",
   "metadata": {},
   "source": [
    "### Question b)\n",
    "* We can use a variety of different metrics for this dataset\n",
    "* We can simply use Median or Mode or alternative we could use the following additional metrics:\n",
    "    1. AOV by Shop\n",
    "        * this allows us to use an appropriate AOV accounting for the different store types\n",
    "        * if a store sell's luxury or rare sneakers than they will have smaller order size in terms of quantity but very large    AOV driven by higher avg price per sneaker\n",
    "    2. AOV by Customer  \n",
    "        * similar to AOV by store; segment by wholesale buyer vs retail buyer\n",
    "    2. AOV by Payment method\n",
    "        * similar to AOV by store; larger orders (bulk) or more expensive orders are usually placed on credit rather than debit/cash\n",
    "    "
   ]
  },
  {
   "cell_type": "code",
   "execution_count": 14,
   "metadata": {},
   "outputs": [
    {
     "name": "stdout",
     "output_type": "stream",
     "text": [
      "Median Order Value:  284.0\n",
      "Mode Order Value:  0    153\n",
      "dtype: int64\n"
     ]
    }
   ],
   "source": [
    "# Mode and Median\n",
    "df = pd.read_csv(\"data.csv\")\n",
    "print(\"Median Order Value: \", df['order_amount'].median())\n",
    "print(\"Mode Order Value: \", df['order_amount'].mode())"
   ]
  },
  {
   "cell_type": "code",
   "execution_count": 15,
   "metadata": {},
   "outputs": [
    {
     "name": "stdout",
     "output_type": "stream",
     "text": [
      "          order_amount  total_items\n",
      "shop_id                            \n",
      "42       235101.490196   667.901961\n",
      "78        49213.043478     1.913043\n",
      "50          403.545455     2.090909\n",
      "90          403.224490     2.265306\n",
      "38          390.857143     2.057143\n",
      "...                ...          ...\n",
      "53          214.117647     1.911765\n",
      "100         213.675000     1.925000\n",
      "32          189.976190     1.880952\n",
      "2           174.327273     1.854545\n",
      "92          162.857143     1.809524\n",
      "\n",
      "[100 rows x 2 columns]\n"
     ]
    }
   ],
   "source": [
    "# AOV by Shop\n",
    "\n",
    "df = pd.read_csv(\"data.csv\")\n",
    "\n",
    "table = pd.pivot_table(df, values=['order_amount', 'total_items'], index=['shop_id'],\n",
    "                    aggfunc={'order_amount': np.mean,\n",
    "                             'total_items': np.mean})\n",
    "\n",
    "table.to_csv(\"aov_by_shop.csv\")\n",
    "\n",
    "result = table.sort_values(('order_amount'), ascending=False)\n",
    "print(result)\n"
   ]
  },
  {
   "cell_type": "code",
   "execution_count": 16,
   "metadata": {},
   "outputs": [
    {
     "name": "stdout",
     "output_type": "stream",
     "text": [
      "          order_amount  total_items\n",
      "user_id                            \n",
      "607      704000.000000  2000.000000\n",
      "878       14266.909091     2.181818\n",
      "766        8007.600000     2.300000\n",
      "834        6019.000000     2.111111\n",
      "915        5785.142857     2.071429\n",
      "...                ...          ...\n",
      "892         227.307692     1.538462\n",
      "899         226.666667     1.666667\n",
      "827         226.500000     1.500000\n",
      "939         219.600000     1.500000\n",
      "864         209.157895     1.473684\n",
      "\n",
      "[301 rows x 2 columns]\n"
     ]
    }
   ],
   "source": [
    "# AOV by Customer\n",
    "\n",
    "df = pd.read_csv(\"data.csv\")\n",
    "\n",
    "table = pd.pivot_table(df, values=['order_amount', 'total_items'], index=['user_id'],\n",
    "                    aggfunc={'order_amount': np.mean,\n",
    "                             'total_items': np.mean})\n",
    "\n",
    "table.to_csv(\"aov_by_customers.csv\")\n",
    "\n",
    "result = table.sort_values(('order_amount'), ascending=False)\n",
    "print(result)"
   ]
  },
  {
   "cell_type": "code",
   "execution_count": null,
   "metadata": {},
   "outputs": [],
   "source": []
  }
 ],
 "metadata": {
  "kernelspec": {
   "display_name": "Python 3",
   "language": "python",
   "name": "python3"
  },
  "language_info": {
   "codemirror_mode": {
    "name": "ipython",
    "version": 3
   },
   "file_extension": ".py",
   "mimetype": "text/x-python",
   "name": "python",
   "nbconvert_exporter": "python",
   "pygments_lexer": "ipython3",
   "version": "3.7.7"
  }
 },
 "nbformat": 4,
 "nbformat_minor": 4
}
